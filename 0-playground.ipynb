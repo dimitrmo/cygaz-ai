{
 "cells": [
  {
   "cell_type": "code",
   "execution_count": 28,
   "metadata": {},
   "outputs": [
    {
     "name": "stdout",
     "output_type": "stream",
     "text": [
      "{'updated_at': 1723729592807, 'updated_at_str': '2024-08-15 13:46:32.000 UTC', 'petroleum_type': 'Unlead95', 'stations': [{'brand': 'ESSO', 'offline': False, 'company': 'I.G. MAKRIS ENTERPRISES LTD', 'address': 'Καντάρας 58 Τ.Κ 1037\\n τηλ: 22433430', 'latitude': '35.1845138888889', 'longitude': '33.3895', 'area': 'Καϊμακλί', 'price': 1.449}, {'brand': 'PETROLINA', 'offline': False, 'company': 'MICHALIS KNEKNAS TRADING LTD', 'address': 'Γρηγόρη Αυξεντίου 76, Κοκκινοτριμιθιά Τ.Κ 2660\\n τηλ: 22834160', 'latitude': '35.148666', 'longitude': '33.212235', 'area': 'Κοκκινοτριμιθιά', 'price': 1.489}, {'brand': 'ESSO', 'offline': True, 'company': '\"ΑΔΕΛΦΟΙ ΚΟΥΡΙΔΗ ΛΙΜΙΤΕΔ\"', 'address': 'Ευαγόρα Παλληκαρίδη 53 Τ.Κ 8010\\n τηλ: 26933657', 'latitude': '34.7779977652251', 'longitude': '32.4236665755325', 'area': 'Πάφος', 'price': 1.49}, {'brand': 'ESSO', 'offline': False, 'company': 'A &amp; K PAVLOU TRADING LIMITED', 'address': 'Πάφου 21 Τ.Κ 3052\\n τηλ: 25562279', 'latitude': '34.6744035108073', 'longitude': '33.013875861377', 'area': 'Λεμεσός', 'price': 1.485}, {'brand': 'EKO', 'offline': False, 'company': 'A G A PETROL STATION LIMITED', 'address': 'Λεωφ. Λουκή Ακρίτα 1 Τ.Κ 1100\\n τηλ: 22774819', 'latitude': '35.17265', 'longitude': '33.350405', 'area': 'Λευκωσία', 'price': 1.499}, {'brand': 'PETROLINA', 'offline': False, 'company': 'A. K. Konnaris Service Station Ltd', 'address': 'Παναγίας Ελεούσας 55 Τ.Κ 4730\\n τηλ: 25432020', 'latitude': '34.8458', 'longitude': '32.9121', 'area': 'Τριμίκλινη', 'price': 1.515}, {'brand': 'PETROLINA', 'offline': False, 'company': 'A. K. Konnaris Service Station Ltd (Platres)', 'address': 'Παναγίας Φανερωμένης 57 Τ.Κ\\n τηλ: 25421100', 'latitude': '34.8843', 'longitude': '32.8633', 'area': 'Πάνω Πλάτρες', 'price': 1.538}, {'brand': 'PETROLINA', 'offline': False, 'company': 'A.C.C. AVRAAM ENTERPRISES LIMITED', 'address': 'Λεωφ. Λουκή Ακρίτα 15 Τ.Κ 1100\\n τηλ: 22771700', 'latitude': '35.17211667', 'longitude': '33.34798333', 'area': 'Λευκωσία', 'price': 1.495}, {'brand': 'EKO', 'offline': False, 'company': 'A.L. SERVICE STATION LIMITED', 'address': 'Γ. Κρανιδιώτη 5 Τ.Κ 2220\\n τηλ: 22489888', 'latitude': '35.116846', 'longitude': '33.377618', 'area': 'Λατσιά', 'price': 1.558}, {'brand': 'ESSO', 'offline': False, 'company': 'A.V. FUELS LIMITED', 'address': 'Μισιαούλη &amp; Καβάζογλου 86-88 Τ.Κ 3016\\n τηλ: 25565274', 'latitude': '34.673999828282', 'longitude': '33.0231830443581', 'area': 'Λεμεσός', 'price': 1.456}, {'brand': 'EKO', 'offline': False, 'company': 'ANDREAS THEOCHAROUS (PETROL STATION) LIMITED', 'address': \"Λεωφ.Αρχ. Μακαρίου Γ' 70, Αστρομερίτης  Τ.Κ 2722\\n τηλ: 22821312\", 'latitude': '35.138374', 'longitude': '33.051492', 'area': 'Αστρομερίτης', 'price': 1.491}, {'brand': 'ESSO', 'offline': True, 'company': 'ANGIO TRADING LIMITED', 'address': 'Λεωφ. Νίκης 37 Τ.Κ 1087\\n τηλ: 22490810', 'latitude': '35.1565679511699', 'longitude': '33.3580602362457', 'area': 'Ακρόπολη', 'price': 1.477}, {'brand': 'ESSO', 'offline': False, 'company': 'ANMAS LTD', 'address': 'Λεωφ. Γρηγόρη Αυξεντίου 154 Τ.Κ 2365\\n τηλ: 22771034', 'latitude': '35.1723546547892', 'longitude': '33.3232578673897', 'area': 'Άγιος Δομέτιος', 'price': 1.509}]}\n"
     ]
    }
   ],
   "source": [
    "import json\n",
    "\n",
    "with open('sample.json', 'rb') as file:\n",
    "    data = json.load(file)\n",
    "\n",
    "print(data)"
   ]
  },
  {
   "cell_type": "code",
   "execution_count": 29,
   "metadata": {},
   "outputs": [
    {
     "name": "stdout",
     "output_type": "stream",
     "text": [
      "{\n",
      "    \"updated_at\": 1723729592807,\n",
      "    \"updated_at_str\": \"2024-08-15 13:46:32.000 UTC\",\n",
      "    \"petroleum_type\": \"Unlead95\",\n",
      "    \"stations\": [\n",
      "        {\n",
      "            \"brand\": \"ESSO\",\n",
      "            \"offline\": false,\n",
      "            \"company\": \"I.G. MAKRIS ENTERPRISES LTD\",\n",
      "            \"address\": \"\\u039a\\u03b1\\u03bd\\u03c4\\u03ac\\u03c1\\u03b1\\u03c2 58 \\u03a4.\\u039a 1037\\n \\u03c4\\u03b7\\u03bb: 22433430\",\n",
      "            \"latitude\": \"35.1845138888889\",\n",
      "            \"longitude\": \"33.3895\",\n",
      "            \"area\": \"\\u039a\\u03b1\\u03ca\\u03bc\\u03b1\\u03ba\\u03bb\\u03af\",\n",
      "            \"price\": 1.449\n",
      "        },\n",
      "        {\n",
      "            \"brand\": \"PETROLINA\",\n",
      "            \"offline\": false,\n",
      "            \"company\": \"MICHALIS KNEKNAS TRADING LTD\",\n",
      "            \"address\": \"\\u0393\\u03c1\\u03b7\\u03b3\\u03cc\\u03c1\\u03b7 \\u0391\\u03c5\\u03be\\u03b5\\u03bd\\u03c4\\u03af\\u03bf\\u03c5 76, \\u039a\\u03bf\\u03ba\\u03ba\\u03b9\\u03bd\\u03bf\\u03c4\\u03c1\\u03b9\\u03bc\\u03b9\\u03b8\\u03b9\\u03ac \\u03a4.\\u039a 2660\\n \\u03c4\\u03b7\\u03bb: 22834160\",\n",
      "            \"latitude\": \"35.148666\",\n",
      "            \"longitude\": \"33.212235\",\n",
      "            \"area\": \"\\u039a\\u03bf\\u03ba\\u03ba\\u03b9\\u03bd\\u03bf\\u03c4\\u03c1\\u03b9\\u03bc\\u03b9\\u03b8\\u03b9\\u03ac\",\n",
      "            \"price\": 1.489\n",
      "        },\n",
      "        {\n",
      "            \"brand\": \"ESSO\",\n",
      "            \"offline\": true,\n",
      "            \"company\": \"\\\"\\u0391\\u0394\\u0395\\u039b\\u03a6\\u039f\\u0399 \\u039a\\u039f\\u03a5\\u03a1\\u0399\\u0394\\u0397 \\u039b\\u0399\\u039c\\u0399\\u03a4\\u0395\\u0394\\\"\",\n",
      "            \"address\": \"\\u0395\\u03c5\\u03b1\\u03b3\\u03cc\\u03c1\\u03b1 \\u03a0\\u03b1\\u03bb\\u03bb\\u03b7\\u03ba\\u03b1\\u03c1\\u03af\\u03b4\\u03b7 53 \\u03a4.\\u039a 8010\\n \\u03c4\\u03b7\\u03bb: 26933657\",\n",
      "            \"latitude\": \"34.7779977652251\",\n",
      "            \"longitude\": \"32.4236665755325\",\n",
      "            \"area\": \"\\u03a0\\u03ac\\u03c6\\u03bf\\u03c2\",\n",
      "            \"price\": 1.49\n",
      "        },\n",
      "        {\n",
      "            \"brand\": \"ESSO\",\n",
      "            \"offline\": false,\n",
      "            \"company\": \"A &amp; K PAVLOU TRADING LIMITED\",\n",
      "            \"address\": \"\\u03a0\\u03ac\\u03c6\\u03bf\\u03c5 21 \\u03a4.\\u039a 3052\\n \\u03c4\\u03b7\\u03bb: 25562279\",\n",
      "            \"latitude\": \"34.6744035108073\",\n",
      "            \"longitude\": \"33.013875861377\",\n",
      "            \"area\": \"\\u039b\\u03b5\\u03bc\\u03b5\\u03c3\\u03cc\\u03c2\",\n",
      "            \"price\": 1.485\n",
      "        },\n",
      "        {\n",
      "            \"brand\": \"EKO\",\n",
      "            \"offline\": false,\n",
      "            \"company\": \"A G A PETROL STATION LIMITED\",\n",
      "            \"address\": \"\\u039b\\u03b5\\u03c9\\u03c6. \\u039b\\u03bf\\u03c5\\u03ba\\u03ae \\u0391\\u03ba\\u03c1\\u03af\\u03c4\\u03b1 1 \\u03a4.\\u039a 1100\\n \\u03c4\\u03b7\\u03bb: 22774819\",\n",
      "            \"latitude\": \"35.17265\",\n",
      "            \"longitude\": \"33.350405\",\n",
      "            \"area\": \"\\u039b\\u03b5\\u03c5\\u03ba\\u03c9\\u03c3\\u03af\\u03b1\",\n",
      "            \"price\": 1.499\n",
      "        },\n",
      "        {\n",
      "            \"brand\": \"PETROLINA\",\n",
      "            \"offline\": false,\n",
      "            \"company\": \"A. K. Konnaris Service Station Ltd\",\n",
      "            \"address\": \"\\u03a0\\u03b1\\u03bd\\u03b1\\u03b3\\u03af\\u03b1\\u03c2 \\u0395\\u03bb\\u03b5\\u03bf\\u03cd\\u03c3\\u03b1\\u03c2 55 \\u03a4.\\u039a 4730\\n \\u03c4\\u03b7\\u03bb: 25432020\",\n",
      "            \"latitude\": \"34.8458\",\n",
      "            \"longitude\": \"32.9121\",\n",
      "            \"area\": \"\\u03a4\\u03c1\\u03b9\\u03bc\\u03af\\u03ba\\u03bb\\u03b9\\u03bd\\u03b7\",\n",
      "            \"price\": 1.515\n",
      "        },\n",
      "        {\n",
      "            \"brand\": \"PETROLINA\",\n",
      "            \"offline\": false,\n",
      "            \"company\": \"A. K. Konnaris Service Station Ltd (Platres)\",\n",
      "            \"address\": \"\\u03a0\\u03b1\\u03bd\\u03b1\\u03b3\\u03af\\u03b1\\u03c2 \\u03a6\\u03b1\\u03bd\\u03b5\\u03c1\\u03c9\\u03bc\\u03ad\\u03bd\\u03b7\\u03c2 57 \\u03a4.\\u039a\\n \\u03c4\\u03b7\\u03bb: 25421100\",\n",
      "            \"latitude\": \"34.8843\",\n",
      "            \"longitude\": \"32.8633\",\n",
      "            \"area\": \"\\u03a0\\u03ac\\u03bd\\u03c9 \\u03a0\\u03bb\\u03ac\\u03c4\\u03c1\\u03b5\\u03c2\",\n",
      "            \"price\": 1.538\n",
      "        },\n",
      "        {\n",
      "            \"brand\": \"PETROLINA\",\n",
      "            \"offline\": false,\n",
      "            \"company\": \"A.C.C. AVRAAM ENTERPRISES LIMITED\",\n",
      "            \"address\": \"\\u039b\\u03b5\\u03c9\\u03c6. \\u039b\\u03bf\\u03c5\\u03ba\\u03ae \\u0391\\u03ba\\u03c1\\u03af\\u03c4\\u03b1 15 \\u03a4.\\u039a 1100\\n \\u03c4\\u03b7\\u03bb: 22771700\",\n",
      "            \"latitude\": \"35.17211667\",\n",
      "            \"longitude\": \"33.34798333\",\n",
      "            \"area\": \"\\u039b\\u03b5\\u03c5\\u03ba\\u03c9\\u03c3\\u03af\\u03b1\",\n",
      "            \"price\": 1.495\n",
      "        },\n",
      "        {\n",
      "            \"brand\": \"EKO\",\n",
      "            \"offline\": false,\n",
      "            \"company\": \"A.L. SERVICE STATION LIMITED\",\n",
      "            \"address\": \"\\u0393. \\u039a\\u03c1\\u03b1\\u03bd\\u03b9\\u03b4\\u03b9\\u03ce\\u03c4\\u03b7 5 \\u03a4.\\u039a 2220\\n \\u03c4\\u03b7\\u03bb: 22489888\",\n",
      "            \"latitude\": \"35.116846\",\n",
      "            \"longitude\": \"33.377618\",\n",
      "            \"area\": \"\\u039b\\u03b1\\u03c4\\u03c3\\u03b9\\u03ac\",\n",
      "            \"price\": 1.558\n",
      "        },\n",
      "        {\n",
      "            \"brand\": \"ESSO\",\n",
      "            \"offline\": false,\n",
      "            \"company\": \"A.V. FUELS LIMITED\",\n",
      "            \"address\": \"\\u039c\\u03b9\\u03c3\\u03b9\\u03b1\\u03bf\\u03cd\\u03bb\\u03b7 &amp; \\u039a\\u03b1\\u03b2\\u03ac\\u03b6\\u03bf\\u03b3\\u03bb\\u03bf\\u03c5 86-88 \\u03a4.\\u039a 3016\\n \\u03c4\\u03b7\\u03bb: 25565274\",\n",
      "            \"latitude\": \"34.673999828282\",\n",
      "            \"longitude\": \"33.0231830443581\",\n",
      "            \"area\": \"\\u039b\\u03b5\\u03bc\\u03b5\\u03c3\\u03cc\\u03c2\",\n",
      "            \"price\": 1.456\n",
      "        },\n",
      "        {\n",
      "            \"brand\": \"EKO\",\n",
      "            \"offline\": false,\n",
      "            \"company\": \"ANDREAS THEOCHAROUS (PETROL STATION) LIMITED\",\n",
      "            \"address\": \"\\u039b\\u03b5\\u03c9\\u03c6.\\u0391\\u03c1\\u03c7. \\u039c\\u03b1\\u03ba\\u03b1\\u03c1\\u03af\\u03bf\\u03c5 \\u0393' 70, \\u0391\\u03c3\\u03c4\\u03c1\\u03bf\\u03bc\\u03b5\\u03c1\\u03af\\u03c4\\u03b7\\u03c2  \\u03a4.\\u039a 2722\\n \\u03c4\\u03b7\\u03bb: 22821312\",\n",
      "            \"latitude\": \"35.138374\",\n",
      "            \"longitude\": \"33.051492\",\n",
      "            \"area\": \"\\u0391\\u03c3\\u03c4\\u03c1\\u03bf\\u03bc\\u03b5\\u03c1\\u03af\\u03c4\\u03b7\\u03c2\",\n",
      "            \"price\": 1.491\n",
      "        },\n",
      "        {\n",
      "            \"brand\": \"ESSO\",\n",
      "            \"offline\": true,\n",
      "            \"company\": \"ANGIO TRADING LIMITED\",\n",
      "            \"address\": \"\\u039b\\u03b5\\u03c9\\u03c6. \\u039d\\u03af\\u03ba\\u03b7\\u03c2 37 \\u03a4.\\u039a 1087\\n \\u03c4\\u03b7\\u03bb: 22490810\",\n",
      "            \"latitude\": \"35.1565679511699\",\n",
      "            \"longitude\": \"33.3580602362457\",\n",
      "            \"area\": \"\\u0391\\u03ba\\u03c1\\u03cc\\u03c0\\u03bf\\u03bb\\u03b7\",\n",
      "            \"price\": 1.477\n",
      "        },\n",
      "        {\n",
      "            \"brand\": \"ESSO\",\n",
      "            \"offline\": false,\n",
      "            \"company\": \"ANMAS LTD\",\n",
      "            \"address\": \"\\u039b\\u03b5\\u03c9\\u03c6. \\u0393\\u03c1\\u03b7\\u03b3\\u03cc\\u03c1\\u03b7 \\u0391\\u03c5\\u03be\\u03b5\\u03bd\\u03c4\\u03af\\u03bf\\u03c5 154 \\u03a4.\\u039a 2365\\n \\u03c4\\u03b7\\u03bb: 22771034\",\n",
      "            \"latitude\": \"35.1723546547892\",\n",
      "            \"longitude\": \"33.3232578673897\",\n",
      "            \"area\": \"\\u0386\\u03b3\\u03b9\\u03bf\\u03c2 \\u0394\\u03bf\\u03bc\\u03ad\\u03c4\\u03b9\\u03bf\\u03c2\",\n",
      "            \"price\": 1.509\n",
      "        }\n",
      "    ]\n",
      "}\n"
     ]
    }
   ],
   "source": [
    "formatted = json.dumps(data, indent = 4)\n",
    "\n",
    "print(formatted)"
   ]
  },
  {
   "cell_type": "code",
   "execution_count": 30,
   "metadata": {},
   "outputs": [
    {
     "name": "stdout",
     "output_type": "stream",
     "text": [
      "total stations in file: 13\n"
     ]
    }
   ],
   "source": [
    "print(\"total stations in file:\", len(data['stations']))"
   ]
  },
  {
   "cell_type": "code",
   "execution_count": 31,
   "metadata": {},
   "outputs": [],
   "source": [
    "def filter_by_area(station, area):\n",
    "    return station['area'] == area\n",
    "\n",
    "def stations_by_area(area):\n",
    "    stations_by_area = list(filter(lambda x: filter_by_area(x, area), data['stations']))\n",
    "    return sorted(stations_by_area, key=lambda x: x['price'], reverse=False)\n",
    "\n",
    "def cheapest_in_area(area):\n",
    "    area_stations = stations_by_area(area)\n",
    "\n",
    "    if len(area_stations) == 0:\n",
    "        return None\n",
    "\n",
    "    return area_stations[0]\n",
    "\n",
    "def print_cheapest_in_area(area):\n",
    "    cheapest_in_area_station = cheapest_in_area(area)\n",
    "    if cheapest_in_area_station is None:\n",
    "        print(\"nothing found in\", area)\n",
    "    else:\n",
    "        print(\"cheapest in\", area, \" => name:\", cheapest_in_area_station[\"brand\"])\n",
    "        print(\"cheapest in\", area, \" => offline:\", cheapest_in_area_station[\"offline\"])\n",
    "        print(\"cheapest in\", area, \" => company:\", cheapest_in_area_station[\"company\"])\n",
    "        print(\"cheapest in\", area, \" => address:\", cheapest_in_area_station[\"address\"])\n",
    "        print(\"cheapest in\", area, \" => latitude:\", cheapest_in_area_station[\"latitude\"])\n",
    "        print(\"cheapest in\", area, \" => longitude:\", cheapest_in_area_station[\"longitude\"])\n",
    "        print(\"cheapest in\", area, \" => price:\", cheapest_in_area_station[\"price\"])\n"
   ]
  },
  {
   "cell_type": "code",
   "execution_count": 32,
   "metadata": {},
   "outputs": [
    {
     "name": "stdout",
     "output_type": "stream",
     "text": [
      "cheapest in Πάφος  => name: ESSO\n",
      "cheapest in Πάφος  => offline: True\n",
      "cheapest in Πάφος  => company: \"ΑΔΕΛΦΟΙ ΚΟΥΡΙΔΗ ΛΙΜΙΤΕΔ\"\n",
      "cheapest in Πάφος  => address: Ευαγόρα Παλληκαρίδη 53 Τ.Κ 8010\n",
      " τηλ: 26933657\n",
      "cheapest in Πάφος  => latitude: 34.7779977652251\n",
      "cheapest in Πάφος  => longitude: 32.4236665755325\n",
      "cheapest in Πάφος  => price: 1.49\n",
      "======================\n",
      "total stations in Πάφος: 1\n"
     ]
    }
   ],
   "source": [
    "print_cheapest_in_area(\"Πάφος\")\n",
    "print(\"======================\")\n",
    "print(\"total stations in Πάφος:\", len(stations_by_area(\"Πάφος\")))"
   ]
  },
  {
   "cell_type": "code",
   "execution_count": 33,
   "metadata": {},
   "outputs": [
    {
     "name": "stdout",
     "output_type": "stream",
     "text": [
      "nothing found in Περιστερώνα\n",
      "======================\n",
      "total stations in Περιστερώνα: 0\n"
     ]
    }
   ],
   "source": [
    "print_cheapest_in_area(\"Περιστερώνα\")\n",
    "print(\"======================\")\n",
    "print(\"total stations in Περιστερώνα:\", len(stations_by_area(\"Περιστερώνα\")))"
   ]
  },
  {
   "cell_type": "code",
   "execution_count": 34,
   "metadata": {},
   "outputs": [
    {
     "name": "stdout",
     "output_type": "stream",
     "text": [
      "nothing found in Ξυλοφάγου\n",
      "======================\n",
      "total stations in Ξυλοφάγου: 0\n"
     ]
    }
   ],
   "source": [
    "print_cheapest_in_area(\"Ξυλοφάγου\")\n",
    "print(\"======================\")\n",
    "print(\"total stations in Ξυλοφάγου:\", len(stations_by_area(\"Ξυλοφάγου\")))"
   ]
  },
  {
   "cell_type": "code",
   "execution_count": 35,
   "metadata": {},
   "outputs": [
    {
     "name": "stdout",
     "output_type": "stream",
     "text": [
      "cheapest in Λεμεσός  => name: ESSO\n",
      "cheapest in Λεμεσός  => offline: False\n",
      "cheapest in Λεμεσός  => company: A.V. FUELS LIMITED\n",
      "cheapest in Λεμεσός  => address: Μισιαούλη &amp; Καβάζογλου 86-88 Τ.Κ 3016\n",
      " τηλ: 25565274\n",
      "cheapest in Λεμεσός  => latitude: 34.673999828282\n",
      "cheapest in Λεμεσός  => longitude: 33.0231830443581\n",
      "cheapest in Λεμεσός  => price: 1.456\n",
      "======================\n",
      "total stations in Λεμεσός: 2\n"
     ]
    }
   ],
   "source": [
    "print_cheapest_in_area(\"Λεμεσός\")\n",
    "print(\"======================\")\n",
    "print(\"total stations in Λεμεσός:\", len(stations_by_area(\"Λεμεσός\")))"
   ]
  },
  {
   "cell_type": "code",
   "execution_count": 36,
   "metadata": {},
   "outputs": [
    {
     "name": "stdout",
     "output_type": "stream",
     "text": [
      "nothing found in Στρόβολος\n",
      "======================\n",
      "total stations in Στρόβολος: 0\n"
     ]
    }
   ],
   "source": [
    "print_cheapest_in_area(\"Στρόβολος\")\n",
    "print(\"======================\")\n",
    "print(\"total stations in Στρόβολος:\", len(stations_by_area(\"Στρόβολος\")))"
   ]
  },
  {
   "cell_type": "code",
   "execution_count": 37,
   "metadata": {},
   "outputs": [],
   "source": [
    "def extract_area(x):\n",
    "    return x['area']\n",
    "\n",
    "def all_areas():\n",
    "    x = map(extract_area, data['stations'])\n",
    "    y = list(x)\n",
    "    return set(y)"
   ]
  },
  {
   "cell_type": "code",
   "execution_count": 38,
   "metadata": {},
   "outputs": [
    {
     "name": "stdout",
     "output_type": "stream",
     "text": [
      "total unique areas: 11 \n",
      "\n",
      "Άγιος Δομέτιος : 1\n",
      "Ακρόπολη : 1\n",
      "Αστρομερίτης : 1\n",
      "Καϊμακλί : 1\n",
      "Κοκκινοτριμιθιά : 1\n",
      "Λατσιά : 1\n",
      "Λεμεσός : 2\n",
      "Λευκωσία : 2\n",
      "Πάνω Πλάτρες : 1\n",
      "Πάφος : 1\n",
      "Τριμίκλινη : 1\n",
      "======================\n",
      "total stations: 13\n"
     ]
    }
   ],
   "source": [
    "print(\"total unique areas:\", len(all_areas()), \"\\n\")\n",
    "\n",
    "total = 0\n",
    "\n",
    "for area in sorted(all_areas()):\n",
    "    stations = stations_by_area(area)\n",
    "    total += len(stations)\n",
    "    print(area, \":\", len(stations))\n",
    "\n",
    "print(\"======================\")\n",
    "print(\"total stations:\", total)"
   ]
  },
  {
   "cell_type": "code",
   "execution_count": 39,
   "metadata": {},
   "outputs": [
    {
     "name": "stdout",
     "output_type": "stream",
     "text": [
      "{'$schema': 'http://json-schema.org/draft-07/schema#', 'title': 'CyGaz', 'type': 'object', 'properties': {'updated_at': {'description': 'Last updated time in milliseconds', 'type': 'integer', 'examples': [1723729592807]}, 'updated_at_str': {'description': 'Last updated time in readable format', 'type': 'string', 'examples': ['2024-08-15 13:46:32.000 UTC']}, 'petroleum_type': {'description': 'Type of petroleum', 'type': 'string', 'enum': ['Unlead95', 'Unlead98', 'DieselHeat', 'DieselAuto', 'Kerosene']}, 'stations': {'description': 'List of stations', 'type': 'array', 'items': {'type': 'object', 'properties': {'brand': {'type': 'string', 'examples': ['BP']}, 'offline': {'type': 'boolean'}, 'company': {'type': 'string', 'examples': ['Company LTD']}, 'address': {'type': 'string', 'examples': ['Broadway Street']}, 'latitude': {'type': 'string', 'examples': ['40.730610']}, 'longitude': {'type': 'string', 'examples': ['-73.935242']}, 'area': {'type': 'string', 'examples': ['Soho']}, 'price': {'type': 'number', 'examples': [1.489]}}}, 'additionalItems': False}}}\n"
     ]
    }
   ],
   "source": [
    "import json\n",
    "\n",
    "with open('schema.json', 'rb') as file:\n",
    "    schema = json.load(file)\n",
    "\n",
    "print(schema)"
   ]
  },
  {
   "cell_type": "code",
   "execution_count": 40,
   "metadata": {},
   "outputs": [
    {
     "name": "stdout",
     "output_type": "stream",
     "text": [
      "valid data based on schema\n"
     ]
    }
   ],
   "source": [
    "from jsonschema import validate\n",
    "\n",
    "try:\n",
    "    validate(instance=data, schema=schema)\n",
    "    print(\"valid data based on schema\")\n",
    "except:\n",
    "    print(\"invalid data based on schema\")\n"
   ]
  },
  {
   "cell_type": "code",
   "execution_count": 41,
   "metadata": {},
   "outputs": [],
   "source": [
    "for station in stations_by_area('Επισκοπή'):\n",
    "    print(\"station in Επισκοπή:\", station['price'], station['offline'])"
   ]
  },
  {
   "cell_type": "code",
   "execution_count": 42,
   "metadata": {},
   "outputs": [],
   "source": [
    "for station in stations_by_area('Επισκοπή'):\n",
    "    if (station['offline'] == False):\n",
    "        print(\"online station in Επισκοπή:\", station['price'], station['offline'])"
   ]
  },
  {
   "cell_type": "code",
   "execution_count": 43,
   "metadata": {},
   "outputs": [
    {
     "name": "stdout",
     "output_type": "stream",
     "text": [
      "station in Λευκωσία: 1.495 False\n",
      "station in Λευκωσία: 1.499 False\n"
     ]
    }
   ],
   "source": [
    "for station in stations_by_area('Λευκωσία'):\n",
    "    print(\"station in Λευκωσία:\", station['price'], station['offline'])"
   ]
  },
  {
   "cell_type": "code",
   "execution_count": 44,
   "metadata": {},
   "outputs": [
    {
     "name": "stdout",
     "output_type": "stream",
     "text": [
      "online station in Λευκωσία: 1.495 False\n",
      "online station in Λευκωσία: 1.499 False\n"
     ]
    }
   ],
   "source": [
    "for station in stations_by_area('Λευκωσία'):\n",
    "    if (station['offline'] == False):\n",
    "        print(\"online station in Λευκωσία:\", station['price'], station['offline'])"
   ]
  },
  {
   "cell_type": "code",
   "execution_count": 45,
   "metadata": {},
   "outputs": [],
   "source": [
    "def most_expensive_in_area(area):\n",
    "    area_stations = stations_by_area(area)\n",
    "\n",
    "    if len(area_stations) == 0:\n",
    "        return None\n",
    "\n",
    "    return area_stations[-1]\n",
    "\n",
    "def print_most_expensive_in_area(area):\n",
    "    most_expensive_station_in_area = most_expensive_in_area(area)\n",
    "    print(\"most expensive in\", area, \" => name:\", most_expensive_station_in_area[\"brand\"])\n",
    "    print(\"most expensive in\", area, \" => offline:\", most_expensive_station_in_area[\"offline\"])\n",
    "    print(\"most expensive in\", area, \" => company:\", most_expensive_station_in_area[\"company\"])\n",
    "    print(\"most expensive in\", area, \" => address:\", most_expensive_station_in_area[\"address\"])\n",
    "    print(\"most expensive in\", area, \" => latitude:\", most_expensive_station_in_area[\"latitude\"])\n",
    "    print(\"most expensive in\", area, \" => longitude:\", most_expensive_station_in_area[\"longitude\"])\n",
    "    print(\"most expensive in\", area, \" => price:\", most_expensive_station_in_area[\"price\"])"
   ]
  },
  {
   "cell_type": "code",
   "execution_count": 46,
   "metadata": {},
   "outputs": [
    {
     "name": "stdout",
     "output_type": "stream",
     "text": [
      "most expensive in Λευκωσία  => name: EKO\n",
      "most expensive in Λευκωσία  => offline: False\n",
      "most expensive in Λευκωσία  => company: A G A PETROL STATION LIMITED\n",
      "most expensive in Λευκωσία  => address: Λεωφ. Λουκή Ακρίτα 1 Τ.Κ 1100\n",
      " τηλ: 22774819\n",
      "most expensive in Λευκωσία  => latitude: 35.17265\n",
      "most expensive in Λευκωσία  => longitude: 33.350405\n",
      "most expensive in Λευκωσία  => price: 1.499\n"
     ]
    }
   ],
   "source": [
    "print_most_expensive_in_area('Λευκωσία')"
   ]
  },
  {
   "cell_type": "code",
   "execution_count": 47,
   "metadata": {},
   "outputs": [
    {
     "name": "stdout",
     "output_type": "stream",
     "text": [
      "most expensive in Λευκωσία 1.499 vs cheapest in Λευκωσία 1.495\n"
     ]
    }
   ],
   "source": [
    "most_exp_nic = most_expensive_in_area(\"Λευκωσία\")\n",
    "cheapest_nic = cheapest_in_area(\"Λευκωσία\")\n",
    "\n",
    "print(\"most expensive in Λευκωσία\", most_exp_nic[\"price\"], \"vs cheapest in Λευκωσία\", cheapest_nic[\"price\"])"
   ]
  },
  {
   "cell_type": "code",
   "execution_count": 48,
   "metadata": {},
   "outputs": [
    {
     "name": "stdout",
     "output_type": "stream",
     "text": [
      "most expensive in Πάφος 1.49 vs cheapest in Πάφος 1.49\n"
     ]
    }
   ],
   "source": [
    "most_exp_paf = most_expensive_in_area(\"Πάφος\")\n",
    "cheapest_paf = cheapest_in_area(\"Πάφος\")\n",
    "\n",
    "print(\"most expensive in Πάφος\", most_exp_paf[\"price\"], \"vs cheapest in Πάφος\", cheapest_paf[\"price\"])"
   ]
  }
 ],
 "metadata": {
  "kernelspec": {
   "display_name": "Python 3",
   "language": "python",
   "name": "python3"
  },
  "language_info": {
   "codemirror_mode": {
    "name": "ipython",
    "version": 3
   },
   "file_extension": ".py",
   "mimetype": "text/x-python",
   "name": "python",
   "nbconvert_exporter": "python",
   "pygments_lexer": "ipython3",
   "version": "3.12.6"
  }
 },
 "nbformat": 4,
 "nbformat_minor": 2
}
